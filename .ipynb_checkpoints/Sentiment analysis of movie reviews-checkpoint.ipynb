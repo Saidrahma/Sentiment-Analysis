{
 "cells": [
  {
   "cell_type": "markdown",
   "metadata": {},
   "source": [
    "# Sentiment analysis of movie reviews\n",
    "\n",
    "we will focus on analysing IMDb movie reviews data and try to predict whether the review is positive or negative. Familiarity with some machine learning concepts will help to understand the code and algorithms used. We will use popular scikit-learn machine learning framework.\n",
    "\n",
    "**data set:** http://ai.stanford.edu/~amaas/data/sentiment/"
   ]
  },
  {
   "cell_type": "markdown",
   "metadata": {},
   "source": [
    "https://itnext.io/machine-learning-sentiment-analysis-of-movie-reviews-using-logisticregression-62e9622b4532\n",
    "\n",
    "\n",
    "https://niko79542.github.io/logistic.html"
   ]
  },
  {
   "cell_type": "markdown",
   "metadata": {},
   "source": [
    "## Load data"
   ]
  },
  {
   "cell_type": "code",
   "execution_count": 1,
   "metadata": {},
   "outputs": [],
   "source": [
    "from sklearn.datasets import load_files\n",
    "from sklearn.feature_extraction.text import TfidfVectorizer\n",
    "\n",
    "from sklearn.model_selection import GridSearchCV\n",
    "from sklearn.linear_model import LogisticRegression\n",
    "\n",
    "import numpy as np\n",
    "import matplotlib.pyplot as plt\n",
    "%matplotlib inline"
   ]
  },
  {
   "cell_type": "code",
   "execution_count": 2,
   "metadata": {},
   "outputs": [],
   "source": [
    "reviews_train = load_files(\"data/train/\")\n",
    "text_train, y_train = reviews_train.data, reviews_train.target\n",
    "\n",
    "reviews_test = load_files(\"data/test/\")\n",
    "text_test, y_test = reviews_test.data, reviews_test.target"
   ]
  },
  {
   "cell_type": "code",
   "execution_count": 3,
   "metadata": {},
   "outputs": [
    {
     "name": "stdout",
     "output_type": "stream",
     "text": [
      "Number of documents in train data: 25000\n",
      "Class values: [0 1]\n",
      "Samples per class (train): [12500 12500]\n"
     ]
    }
   ],
   "source": [
    "print(\"Number of documents in train data: {}\".format(len(text_train)))\n",
    "print(\"Class values: {}\".format(np.unique(y_train)))\n",
    "print(\"Samples per class (train): {}\".format(np.bincount(y_train)))"
   ]
  },
  {
   "cell_type": "code",
   "execution_count": 4,
   "metadata": {},
   "outputs": [
    {
     "name": "stdout",
     "output_type": "stream",
     "text": [
      "1  :  b\"I liked it... just that... i liked it, not like the animated series... i love it!!!. The fact that this make less appealing is that we all try to compare and not to appreciate, but this cartoon was awesome, but it really didn't like it that much. There's too much people talking about Bruce being so cold, but if this is around 5 years later, anybody in a crime-fighting gang would get this angry and darker attitude, so to me it isn't a flaw. Batgirl was awesome she really fit there, as there isn't more Dick Grayson as a robin, batman needed a good teammate, not like the new robin, he is just a child and you cant rely that much on a child. But heres what didn't work: The new artwork... it isn't horrible but... to me it does'nt work in a series like batman. This is a dark character, with a maniac killer like the joker, so you cant put this kind of artwork in this cartoon, The joker isn't a bad design but i still like the past joker (but to me the BEST joker ever was the one who appeared in batman beyond:return of the joker) , so this joker isn't near as good. The good thing about the joker is that it still mark Hamil voice. My favorite character: Harley Quinn (im in love for her) They put an awesome episode for her: Mad love (to me the best episode of this series). Here we finally know how she turned Harley Quinn, and how the joker twisted her mind, and it feel that atmosphere that you feel in the animated series, darker, no happy ending, brutal fight with the joker (but too short), this is how it was to be ALL the series. BUT in general i didn't like how she made Harley in this series... in almost every episode they put funny but in a ridiculous way, she get punched, she say nonsenses, she make flaws... c'mon she is funny in a way you can laugh with her, not from her... and here they put ridiculous (like i said the only episode where i don't think that its in mad love and beware of the creeper) So in general its a good series, it has it upsides and downs, the drawn could be better ( MY GOOD!!! KILL THAT CATWOMAN!!!!) nice sound effects, nice music, nice voices and nice episodes: my favorites, Mad love, Jokers millions, Old Wounds, Sins of the father, and Cold comfort. If you enjoyed Batman:TAS you can watch this but don't spec too much, in the other hand if you didn't watched TAS, watch this first and then watch TAS in that way you're really gonna love TAS :D\"\n"
     ]
    }
   ],
   "source": [
    "# Positive example\n",
    "i=600\n",
    "print(y_train[i],\" : \",text_train[i])"
   ]
  },
  {
   "cell_type": "code",
   "execution_count": 5,
   "metadata": {},
   "outputs": [
    {
     "name": "stdout",
     "output_type": "stream",
     "text": [
      "0  :  b\"I am never a big fan of Taiwan movie production as opposed to Korean, Hongkong or even China. Strong acting quality is hardly found in them as clearly shown in this film. I don't consider myself as hard-to-please audience as I am, in fact, a fan of indie movies. However this movie shows weak plot and slow pace. I found myself lost in the middle as to where the plot is going. The acting certainly does not make it better. Rainie's acting is sub par as she 'over-act', trying to be perky and cute. Although I have to admit she is a pleasure to look at. Isabella Leong on the other hand plays a more suitable role as a confused, sad, regretful, extremely reserved character. Overall I find this movie is a disappointment.\"\n"
     ]
    }
   ],
   "source": [
    "# Negative example\n",
    "i=1800\n",
    "print(y_train[i],\" : \",text_train[i])"
   ]
  },
  {
   "cell_type": "markdown",
   "metadata": {},
   "source": [
    "## Feature extraction from text\n",
    "\n",
    "The tf–idf is the product of two statistics, term frequency and inverse document frequency. There are various ways for determining the exact values of both statistics.\n",
    "https://en.wikipedia.org/wiki/Tf%E2%80%93idf\n",
    "\n",
    "**Variants of term frequency (tf) weight**\n",
    "\n",
    "![Variants of term frequency (tf) weight](images/tf_weights.png)\n",
    "\n",
    "**Variants of inverse document frequency (idf) weight**\n",
    "\n",
    "![Variants of inverse document frequency (idf) weight](images/idf_weights.png)"
   ]
  },
  {
   "cell_type": "code",
   "execution_count": 6,
   "metadata": {},
   "outputs": [],
   "source": [
    "vect = TfidfVectorizer(min_df=5, max_df=0.6, ngram_range=(1, 2))\n",
    "X_train = vect.fit(text_train).transform(text_train)\n",
    "X_test = vect.transform(text_test)\n",
    "feature_names = vect.get_feature_names()"
   ]
  },
  {
   "cell_type": "code",
   "execution_count": 7,
   "metadata": {},
   "outputs": [
    {
     "name": "stdout",
     "output_type": "stream",
     "text": [
      "X_train:\n",
      "(25000, 156804)\n",
      "X_test: \n",
      "(25000, 156804)\n",
      "Number of features: 156804\n"
     ]
    }
   ],
   "source": [
    "print(\"X_train:\\n{}\".format(X_train.shape))\n",
    "print(\"X_test: \\n{}\".format(X_test.shape))\n",
    "print(\"Number of features: {}\".format(len(feature_names)))"
   ]
  },
  {
   "cell_type": "code",
   "execution_count": 26,
   "metadata": {},
   "outputs": [
    {
     "data": {
      "text/plain": [
       "array(['about eight', 'about either', 'about eve', 'about even',\n",
       "       'about every', 'about everyone', 'about everything',\n",
       "       'about family', 'about female', 'about fictional'], dtype='<U29')"
      ]
     },
     "execution_count": 26,
     "metadata": {},
     "output_type": "execute_result"
    }
   ],
   "source": [
    "feature_names = vect.get_feature_names()\n",
    "feature_names=np.array(feature_names)\n",
    "feature_names[1100:1110]"
   ]
  },
  {
   "cell_type": "markdown",
   "metadata": {},
   "source": [
    "# Model development:\n",
    "\n",
    "We will use LogisticRegression for model development.\n",
    "\n",
    "1. Grid Search: for paramater tuning of LogisticRegression. We want to determine what value of coefficeint ‘C’ provides better accuracy.\n",
    "2. Cross validation: in order to avoid overfitting of data.\n"
   ]
  },
  {
   "cell_type": "code",
   "execution_count": 9,
   "metadata": {},
   "outputs": [
    {
     "name": "stderr",
     "output_type": "stream",
     "text": [
      "/media/DATA/miniconda/envs/edx/lib/python3.7/site-packages/sklearn/linear_model/logistic.py:433: FutureWarning: Default solver will be changed to 'lbfgs' in 0.22. Specify a solver to silence this warning.\n",
      "  FutureWarning)\n"
     ]
    },
    {
     "name": "stdout",
     "output_type": "stream",
     "text": [
      "Best cross-validation score: 0.91\n",
      "Best parameters:  {'C': 10}\n",
      "Best estimator:  LogisticRegression(C=10, class_weight=None, dual=False, fit_intercept=True,\n",
      "          intercept_scaling=1, max_iter=100, multi_class='warn',\n",
      "          n_jobs=None, penalty='l2', random_state=None, solver='warn',\n",
      "          tol=0.0001, verbose=0, warm_start=False)\n"
     ]
    }
   ],
   "source": [
    "param_grid = {'C': [0.001, 0.01, 0.1, 1, 10]}\n",
    "\n",
    "# Cross validation : CV = 5 folds\n",
    "grid = GridSearchCV(LogisticRegression(), param_grid, cv=5)\n",
    "grid.fit(X_train, y_train)\n",
    "\n",
    "print(\"Best cross-validation score: {:.2f}\".format(grid.best_score_))\n",
    "print(\"Best parameters: \", grid.best_params_)\n",
    "print(\"Best estimator: \", grid.best_estimator_)"
   ]
  },
  {
   "cell_type": "code",
   "execution_count": null,
   "metadata": {},
   "outputs": [],
   "source": [
    "sortindx = np.argsort(grid.best_estimator_.coef_[0])"
   ]
  },
  {
   "cell_type": "code",
   "execution_count": 33,
   "metadata": {},
   "outputs": [
    {
     "data": {
      "text/plain": [
       "<BarContainer object of 10 artists>"
      ]
     },
     "execution_count": 33,
     "metadata": {},
     "output_type": "execute_result"
    },
    {
     "data": {
      "image/png": "[encoded data removed]",
      "text/plain": [
       "<Figure size 720x720 with 1 Axes>"
      ]
     },
     "metadata": {
      "needs_background": "light"
     },
     "output_type": "display_data"
    }
   ],
   "source": [
    "# Top 10 Words with the most positive coefficients\n",
    "plt.figure(figsize=(10,10))\n",
    "plt.bar(feature_names[sortindx[-10:]], grid.best_estimator_.coef_[0][sortindx[-10:]])"
   ]
  },
  {
   "cell_type": "code",
   "execution_count": 34,
   "metadata": {},
   "outputs": [
    {
     "data": {
      "text/plain": [
       "<BarContainer object of 10 artists>"
      ]
     },
     "execution_count": 34,
     "metadata": {},
     "output_type": "execute_result"
    },
    {
     "data": {
      "image/png": "[encoded data removed]",
      "text/plain": [
       "<Figure size 720x720 with 1 Axes>"
      ]
     },
     "metadata": {
      "needs_background": "light"
     },
     "output_type": "display_data"
    }
   ],
   "source": [
    "# Top 10 Words with the most negative coefficients\n",
    "plt.figure(figsize=(10,10))\n",
    "plt.bar(feature_names[sortindx[:10]], grid.best_estimator_.coef_[0][sortindx[:10]])"
   ]
  },
  {
   "cell_type": "code",
   "execution_count": null,
   "metadata": {},
   "outputs": [],
   "source": []
  }
 ],
 "metadata": {
  "kernelspec": {
   "display_name": "Python 3",
   "language": "python",
   "name": "python3"
  },
  "language_info": {
   "codemirror_mode": {
    "name": "ipython",
    "version": 3
   },
   "file_extension": ".py",
   "mimetype": "text/x-python",
   "name": "python",
   "nbconvert_exporter": "python",
   "pygments_lexer": "ipython3",
   "version": "3.7.2"
  }
 },
 "nbformat": 4,
 "nbformat_minor": 2
}
